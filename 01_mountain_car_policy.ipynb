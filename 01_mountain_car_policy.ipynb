{
 "cells": [
  {
   "cell_type": "code",
   "execution_count": 1,
   "metadata": {},
   "outputs": [],
   "source": [
    "%matplotlib inline\n",
    "import gym\n",
    "import numpy as np\n",
    "import matplotlib.pyplot as plt\n",
    "import time"
   ]
  },
  {
   "cell_type": "code",
   "execution_count": 2,
   "metadata": {},
   "outputs": [
    {
     "name": "stdout",
     "output_type": "stream",
     "text": [
      "\u001b[33mWARN: gym.spaces.Box autodetected dtype as <class 'numpy.float32'>. Please provide explicit dtype.\u001b[0m\n"
     ]
    }
   ],
   "source": [
    "env = gym.make('MountainCar-v0')"
   ]
  },
  {
   "cell_type": "markdown",
   "metadata": {},
   "source": [
    "Let us call the *forward action* - **drive** and *backward action* - **reverse**\n"
   ]
  },
  {
   "cell_type": "code",
   "execution_count": 3,
   "metadata": {},
   "outputs": [],
   "source": [
    "reverse = 0\n",
    "drive = 2"
   ]
  },
  {
   "cell_type": "markdown",
   "metadata": {},
   "source": [
    "# Intution- 1\n",
    "\n",
    "The idea of this policy is for the car to gain momentum with backward and forward motion( like in a pendulum)  to reach the flag.\n",
    "If the car is moving towards the flag accelerate forward. If the car is moving away from the flag accelerate backwards. This will allow the car to gain momentum and ultimately reach the flag."
   ]
  },
  {
   "cell_type": "code",
   "execution_count": 4,
   "metadata": {},
   "outputs": [],
   "source": [
    "def policy1(w, s):\n",
    "    for _ in np.arange(100):\n",
    "        movement = reverse if np.matmul(w, s) > 0 else drive\n",
    "        s, reward, done, _ = env.step(movement)\n",
    "        if done:\n",
    "            break\n",
    "    return s[0]\n",
    "\n",
    "def action(s):\n",
    "    total = 0\n",
    "    position = 0\n",
    "    w = None\n",
    "    while position < 0.5:\n",
    "        total += 1\n",
    "        w = np.random.rand(2) * 2.0 - 1.0\n",
    "        position = policy1(w, s)\n",
    "    \n",
    "    print (\"Previous state before reaching flag:\\n\")\n",
    "    print(position)\n",
    "\n",
    "    return total, w"
   ]
  },
  {
   "cell_type": "code",
   "execution_count": 5,
   "metadata": {},
   "outputs": [],
   "source": [
    "def evaluation(i):\n",
    "    s = env.reset() #Initial state\n",
    "    total, w = action(s)\n",
    "    print(\"Total runs:\", total)\n",
    "    print(\"Weight:\", w)"
   ]
  },
  {
   "cell_type": "code",
   "execution_count": 6,
   "metadata": {},
   "outputs": [
    {
     "name": "stdout",
     "output_type": "stream",
     "text": [
      "Test Episode : 0\n",
      "Previous state before reaching flag:\n",
      "\n",
      "0.5044563958775247\n",
      "Total runs: 7984\n",
      "Weight: [ 0.49601292 -0.29019739]\n",
      "------------------------------------\n",
      "Test Episode : 1\n",
      "Previous state before reaching flag:\n",
      "\n",
      "0.5039471722311702\n",
      "Total runs: 1206\n",
      "Weight: [-0.26011585 -0.71426231]\n",
      "------------------------------------\n",
      "Test Episode : 2\n",
      "Previous state before reaching flag:\n",
      "\n",
      "0.5064821623683001\n",
      "Total runs: 16328\n",
      "Weight: [-0.83769552 -0.13289169]\n",
      "------------------------------------\n",
      "Test Episode : 3\n",
      "Previous state before reaching flag:\n",
      "\n",
      "0.5036334035581287\n",
      "Total runs: 12574\n",
      "Weight: [-0.16737465  0.02936276]\n",
      "------------------------------------\n",
      "Test Episode : 4\n",
      "Previous state before reaching flag:\n",
      "\n",
      "0.5098762653013886\n",
      "Total runs: 11273\n",
      "Weight: [-0.02712805 -0.00497182]\n",
      "------------------------------------\n",
      "Test Episode : 5\n",
      "Previous state before reaching flag:\n",
      "\n",
      "0.5079744552428838\n",
      "Total runs: 11010\n",
      "Weight: [ 0.79521253 -0.8140268 ]\n",
      "------------------------------------\n",
      "Test Episode : 6\n",
      "Previous state before reaching flag:\n",
      "\n",
      "0.5120274154398381\n",
      "Total runs: 10924\n",
      "Weight: [0.925638   0.34937323]\n",
      "------------------------------------\n",
      "Test Episode : 7\n",
      "Previous state before reaching flag:\n",
      "\n",
      "0.5016566959103874\n",
      "Total runs: 5054\n",
      "Weight: [-0.75662514  0.5669993 ]\n",
      "------------------------------------\n",
      "Test Episode : 8\n",
      "Previous state before reaching flag:\n",
      "\n",
      "0.500381795851944\n",
      "Total runs: 10228\n",
      "Weight: [0.30935654 0.57997976]\n",
      "------------------------------------\n"
     ]
    }
   ],
   "source": [
    "for i in range(9):\n",
    "    print(\"Test Episode :\",i)\n",
    "    evaluation(i)\n",
    "    print(\"------------------------------------\")\n",
    "    "
   ]
  },
  {
   "cell_type": "markdown",
   "metadata": {},
   "source": [
    "# Intution- 2\n",
    "\n",
    "We choose to push the car 2 units towards the hilltop if the position is less than a chosen threshold, else the car remains in the same position. The policy has to drive the car in the same direction as the velocity. Here we will have two states one for position and one state for velocity."
   ]
  },
  {
   "cell_type": "code",
   "execution_count": 10,
   "metadata": {},
   "outputs": [],
   "source": [
    "def policy2(position):\n",
    "    if position[1] > 0:\n",
    "            reward = 2\n",
    "    elif position[1] < 0:\n",
    "        reward = 0\n",
    "    \n",
    "    elif position[0] < -0.5:\n",
    "        reward = 2\n",
    "    else:\n",
    "        reward = 0\n",
    "    \n",
    "    return reward"
   ]
  },
  {
   "cell_type": "code",
   "execution_count": 11,
   "metadata": {},
   "outputs": [],
   "source": [
    "total_reward=[]\n",
    "\n",
    "def evaluation2():\n",
    "    position = env.reset()\n",
    "    count=0\n",
    "    for i in range(200):\n",
    "        env.render()\n",
    "        move=policy2(position)\n",
    "        position, reward, done, info = env.step(move)\n",
    "        count=count+reward\n",
    "        if done:\n",
    "            print(\"Previous state before reaching flag {} \".format(i+1))\n",
    "            break\n",
    "    total_reward.append(count)\n"
   ]
  },
  {
   "cell_type": "code",
   "execution_count": 12,
   "metadata": {},
   "outputs": [
    {
     "name": "stdout",
     "output_type": "stream",
     "text": [
      "Previous state before reaching flag 93 \n",
      "Previous state before reaching flag 173 \n",
      "Previous state before reaching flag 114 \n",
      "Previous state before reaching flag 123 \n",
      "Previous state before reaching flag 117 \n",
      "Previous state before reaching flag 118 \n",
      "Previous state before reaching flag 103 \n",
      "Previous state before reaching flag 124 \n",
      "Previous state before reaching flag 177 \n",
      "Previous state before reaching flag 113 \n",
      "Total : [ -93. -173. -114. -123. -117. -118. -103. -124. -177. -113.]\n",
      "Max  -93.0 Min  -177.0 avg  -125.5\n"
     ]
    }
   ],
   "source": [
    "for i_episode in range(10): \n",
    "    evaluation2()\n",
    "    \n",
    "total_reward=np.array(total_reward)\n",
    "print(\"Total :\",total_reward)\n",
    "print(\"Max \",np.max(total_reward)        ,\"Min \" ,np.min(total_reward)                   ,\"avg \" , np.mean(total_reward))"
   ]
  },
  {
   "cell_type": "code",
   "execution_count": null,
   "metadata": {},
   "outputs": [],
   "source": []
  },
  {
   "cell_type": "code",
   "execution_count": null,
   "metadata": {},
   "outputs": [],
   "source": []
  },
  {
   "cell_type": "code",
   "execution_count": null,
   "metadata": {},
   "outputs": [],
   "source": []
  },
  {
   "cell_type": "code",
   "execution_count": null,
   "metadata": {},
   "outputs": [],
   "source": []
  },
  {
   "cell_type": "code",
   "execution_count": null,
   "metadata": {},
   "outputs": [],
   "source": []
  },
  {
   "cell_type": "code",
   "execution_count": null,
   "metadata": {},
   "outputs": [],
   "source": []
  }
 ],
 "metadata": {
  "kernelspec": {
   "display_name": "Python 3",
   "language": "python",
   "name": "python3"
  },
  "language_info": {
   "codemirror_mode": {
    "name": "ipython",
    "version": 3
   },
   "file_extension": ".py",
   "mimetype": "text/x-python",
   "name": "python",
   "nbconvert_exporter": "python",
   "pygments_lexer": "ipython3",
   "version": "3.6.6"
  }
 },
 "nbformat": 4,
 "nbformat_minor": 2
}
