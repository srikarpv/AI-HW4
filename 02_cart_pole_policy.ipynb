{
 "cells": [
  {
   "cell_type": "code",
   "execution_count": 1,
   "metadata": {},
   "outputs": [],
   "source": [
    "%matplotlib inline\n",
    "import gym\n",
    "import numpy as np\n",
    "import matplotlib.pyplot as plt\n",
    "import time"
   ]
  },
  {
   "cell_type": "code",
   "execution_count": 2,
   "metadata": {},
   "outputs": [],
   "source": [
    "env = gym.make(\"CartPole-v1\")"
   ]
  },
  {
   "cell_type": "markdown",
   "metadata": {},
   "source": [
    "# Intution \n",
    "\n",
    "The policy pushes the cart to the right otherwise the policy pushes the cart to the left to ensure the pole is maintained in an upright position through out the episode.\n",
    "\n",
    "## Sudo code\n",
    "\n",
    "* We move the cart forward and backward based on the pole movement.\n",
    "* We move the cart forward when the angle of the pole is greater than 0 (ie. pole turning right), else we move it backwards. This will ensure the pole to stay upright(basic physics).\n",
    "* When cart moves to the extreme right side, the policy implemented will pull the cart towards the left to ensure the episode does not terminate quickly and vice versa."
   ]
  },
  {
   "cell_type": "code",
   "execution_count": 3,
   "metadata": {},
   "outputs": [],
   "source": [
    "state1,state2 = 0,1"
   ]
  },
  {
   "cell_type": "code",
   "execution_count": 4,
   "metadata": {},
   "outputs": [],
   "source": [
    "def policy(w,s):\n",
    "    total = 0\n",
    "    for _ in np.arange(100):\n",
    "        movement = state1 if np.matmul(w,s) < 0 else state2\n",
    "        \n",
    "        #Policy(back and forth motion)\n",
    "        if w[0] + w[1] >= 1.7:\n",
    "            movement = state1\n",
    "        elif w[0] + w[1] <= -1.7:\n",
    "            movement = state2\n",
    "        \n",
    "        s, reward, done, _ = env.step(movement)\n",
    "        total += reward\n",
    "        if done:\n",
    "            env.reset()\n",
    "            break\n",
    "    return total, w[0], w[2], done"
   ]
  },
  {
   "cell_type": "code",
   "execution_count": 5,
   "metadata": {},
   "outputs": [],
   "source": [
    "def action(s):\n",
    "    w = None\n",
    "    done = False\n",
    "    count = 0\n",
    "    next_step = 0\n",
    "    angle = 0\n",
    "    \n",
    "    while count < 100:\n",
    "        \n",
    "        w = np.random.rand(4) * 2.0 - 1.0\n",
    "        reward, pos, angle, done = policy(w, s)\n",
    "        if not done:\n",
    "            count = 0\n",
    "        else:\n",
    "            count += 1\n",
    "        next_step += 1\n",
    "    print (\"Highest reward achieved, with pole angle\", angle)\n",
    "\n",
    "    return count, weight_vector"
   ]
  },
  {
   "cell_type": "code",
   "execution_count": 6,
   "metadata": {},
   "outputs": [],
   "source": [
    "def evaluation(i):\n",
    "    s = env.reset()\n",
    "    count, w = action(s)\n",
    "    print(\"Total runs:\", count)\n",
    "    print(\"Weight:\", w)\n",
    "    print(\"---------------------------------------\")"
   ]
  },
  {
   "cell_type": "code",
   "execution_count": null,
   "metadata": {},
   "outputs": [],
   "source": [
    "for i in range(9):\n",
    "    evaluation(i)"
   ]
  },
  {
   "cell_type": "code",
   "execution_count": null,
   "metadata": {},
   "outputs": [],
   "source": []
  }
 ],
 "metadata": {
  "kernelspec": {
   "display_name": "Python 3",
   "language": "python",
   "name": "python3"
  },
  "language_info": {
   "codemirror_mode": {
    "name": "ipython",
    "version": 3
   },
   "file_extension": ".py",
   "mimetype": "text/x-python",
   "name": "python",
   "nbconvert_exporter": "python",
   "pygments_lexer": "ipython3",
   "version": "3.6.6"
  }
 },
 "nbformat": 4,
 "nbformat_minor": 2
}
